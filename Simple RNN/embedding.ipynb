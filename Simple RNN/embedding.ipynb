{
 "cells": [
  {
   "cell_type": "code",
   "execution_count": 3,
   "metadata": {},
   "outputs": [],
   "source": [
    "from tensorflow.keras.preprocessing.text import one_hot"
   ]
  },
  {
   "cell_type": "code",
   "execution_count": 4,
   "metadata": {},
   "outputs": [],
   "source": [
    "#define vocab size\n",
    "voc_size=1000\n"
   ]
  },
  {
   "cell_type": "code",
   "execution_count": 6,
   "metadata": {},
   "outputs": [
    {
     "data": {
      "text/plain": [
       "[[471, 959, 518, 918, 734],\n",
       " [525, 229, 423, 734],\n",
       " [520, 444, 768, 618],\n",
       " [584, 200, 898]]"
      ]
     },
     "execution_count": 6,
     "metadata": {},
     "output_type": "execute_result"
    }
   ],
   "source": [
    "###One hot encoding\n",
    "sent=['hai hello, how are you?','Please to see you','Its a beautiful day','Sunset looks good']\n",
    "one_hot_repr = [one_hot(words,voc_size) for words in sent]\n",
    "one_hot_repr"
   ]
  },
  {
   "cell_type": "code",
   "execution_count": 8,
   "metadata": {},
   "outputs": [],
   "source": [
    "#word embedding representation\n",
    "from tensorflow.keras.layers import Embedding\n",
    "from tensorflow.keras.models import Sequential\n",
    "from tensorflow.keras.layers import Flatten, Dense\n",
    "from tensorflow.keras.preprocessing.sequence import pad_sequences\n",
    "import numpy as np"
   ]
  },
  {
   "cell_type": "code",
   "execution_count": 9,
   "metadata": {},
   "outputs": [
    {
     "name": "stdout",
     "output_type": "stream",
     "text": [
      "[[  0   0   0 471 959 518 918 734]\n",
      " [  0   0   0   0 525 229 423 734]\n",
      " [  0   0   0   0 520 444 768 618]\n",
      " [  0   0   0   0   0 584 200 898]]\n"
     ]
    }
   ],
   "source": [
    "sent_len=8\n",
    "embedded_docs=pad_sequences(one_hot_repr, padding='pre', maxlen=sent_len)\n",
    "print(embedded_docs)"
   ]
  },
  {
   "cell_type": "code",
   "execution_count": 11,
   "metadata": {},
   "outputs": [
    {
     "name": "stderr",
     "output_type": "stream",
     "text": [
      "e:\\Python\\Projects\\ANN Classification\\venv\\Lib\\site-packages\\keras\\src\\layers\\core\\embedding.py:90: UserWarning: Argument `input_length` is deprecated. Just remove it.\n",
      "  warnings.warn(\n"
     ]
    }
   ],
   "source": [
    "#featur representation\n",
    "dim=10\n",
    "model=Sequential()\n",
    "model.add(Embedding(voc_size, dim, input_length=sent_len))\n",
    "model.compile('adam', 'mse')"
   ]
  },
  {
   "cell_type": "code",
   "execution_count": 13,
   "metadata": {},
   "outputs": [
    {
     "data": {
      "text/html": [
       "<pre style=\"white-space:pre;overflow-x:auto;line-height:normal;font-family:Menlo,'DejaVu Sans Mono',consolas,'Courier New',monospace\"><span style=\"font-weight: bold\">Model: \"sequential_1\"</span>\n",
       "</pre>\n"
      ],
      "text/plain": [
       "\u001b[1mModel: \"sequential_1\"\u001b[0m\n"
      ]
     },
     "metadata": {},
     "output_type": "display_data"
    },
    {
     "data": {
      "text/html": [
       "<pre style=\"white-space:pre;overflow-x:auto;line-height:normal;font-family:Menlo,'DejaVu Sans Mono',consolas,'Courier New',monospace\">┏━━━━━━━━━━━━━━━━━━━━━━━━━━━━━━━━━┳━━━━━━━━━━━━━━━━━━━━━━━━┳━━━━━━━━━━━━━━━┓\n",
       "┃<span style=\"font-weight: bold\"> Layer (type)                    </span>┃<span style=\"font-weight: bold\"> Output Shape           </span>┃<span style=\"font-weight: bold\">       Param # </span>┃\n",
       "┡━━━━━━━━━━━━━━━━━━━━━━━━━━━━━━━━━╇━━━━━━━━━━━━━━━━━━━━━━━━╇━━━━━━━━━━━━━━━┩\n",
       "│ embedding (<span style=\"color: #0087ff; text-decoration-color: #0087ff\">Embedding</span>)           │ ?                      │   <span style=\"color: #00af00; text-decoration-color: #00af00\">0</span> (unbuilt) │\n",
       "└─────────────────────────────────┴────────────────────────┴───────────────┘\n",
       "</pre>\n"
      ],
      "text/plain": [
       "┏━━━━━━━━━━━━━━━━━━━━━━━━━━━━━━━━━┳━━━━━━━━━━━━━━━━━━━━━━━━┳━━━━━━━━━━━━━━━┓\n",
       "┃\u001b[1m \u001b[0m\u001b[1mLayer (type)                   \u001b[0m\u001b[1m \u001b[0m┃\u001b[1m \u001b[0m\u001b[1mOutput Shape          \u001b[0m\u001b[1m \u001b[0m┃\u001b[1m \u001b[0m\u001b[1m      Param #\u001b[0m\u001b[1m \u001b[0m┃\n",
       "┡━━━━━━━━━━━━━━━━━━━━━━━━━━━━━━━━━╇━━━━━━━━━━━━━━━━━━━━━━━━╇━━━━━━━━━━━━━━━┩\n",
       "│ embedding (\u001b[38;5;33mEmbedding\u001b[0m)           │ ?                      │   \u001b[38;5;34m0\u001b[0m (unbuilt) │\n",
       "└─────────────────────────────────┴────────────────────────┴───────────────┘\n"
      ]
     },
     "metadata": {},
     "output_type": "display_data"
    },
    {
     "data": {
      "text/html": [
       "<pre style=\"white-space:pre;overflow-x:auto;line-height:normal;font-family:Menlo,'DejaVu Sans Mono',consolas,'Courier New',monospace\"><span style=\"font-weight: bold\"> Total params: </span><span style=\"color: #00af00; text-decoration-color: #00af00\">0</span> (0.00 B)\n",
       "</pre>\n"
      ],
      "text/plain": [
       "\u001b[1m Total params: \u001b[0m\u001b[38;5;34m0\u001b[0m (0.00 B)\n"
      ]
     },
     "metadata": {},
     "output_type": "display_data"
    },
    {
     "data": {
      "text/html": [
       "<pre style=\"white-space:pre;overflow-x:auto;line-height:normal;font-family:Menlo,'DejaVu Sans Mono',consolas,'Courier New',monospace\"><span style=\"font-weight: bold\"> Trainable params: </span><span style=\"color: #00af00; text-decoration-color: #00af00\">0</span> (0.00 B)\n",
       "</pre>\n"
      ],
      "text/plain": [
       "\u001b[1m Trainable params: \u001b[0m\u001b[38;5;34m0\u001b[0m (0.00 B)\n"
      ]
     },
     "metadata": {},
     "output_type": "display_data"
    },
    {
     "data": {
      "text/html": [
       "<pre style=\"white-space:pre;overflow-x:auto;line-height:normal;font-family:Menlo,'DejaVu Sans Mono',consolas,'Courier New',monospace\"><span style=\"font-weight: bold\"> Non-trainable params: </span><span style=\"color: #00af00; text-decoration-color: #00af00\">0</span> (0.00 B)\n",
       "</pre>\n"
      ],
      "text/plain": [
       "\u001b[1m Non-trainable params: \u001b[0m\u001b[38;5;34m0\u001b[0m (0.00 B)\n"
      ]
     },
     "metadata": {},
     "output_type": "display_data"
    }
   ],
   "source": [
    "model.summary()"
   ]
  },
  {
   "cell_type": "code",
   "execution_count": 14,
   "metadata": {},
   "outputs": [
    {
     "name": "stdout",
     "output_type": "stream",
     "text": [
      "\u001b[1m1/1\u001b[0m \u001b[32m━━━━━━━━━━━━━━━━━━━━\u001b[0m\u001b[37m\u001b[0m \u001b[1m2s\u001b[0m 2s/step\n"
     ]
    },
    {
     "data": {
      "text/plain": [
       "array([[[ 0.00760077,  0.00943885, -0.04657609, -0.02080914,\n",
       "          0.01646994,  0.03705574,  0.02403385, -0.03710885,\n",
       "          0.03151498,  0.04672147],\n",
       "        [ 0.00760077,  0.00943885, -0.04657609, -0.02080914,\n",
       "          0.01646994,  0.03705574,  0.02403385, -0.03710885,\n",
       "          0.03151498,  0.04672147],\n",
       "        [ 0.00760077,  0.00943885, -0.04657609, -0.02080914,\n",
       "          0.01646994,  0.03705574,  0.02403385, -0.03710885,\n",
       "          0.03151498,  0.04672147],\n",
       "        [-0.04844378, -0.0351102 ,  0.00314592,  0.02525372,\n",
       "          0.00612545,  0.01114706,  0.01443838,  0.03238578,\n",
       "          0.01959659,  0.03477776],\n",
       "        [ 0.04889672, -0.00821805,  0.0457405 ,  0.01909641,\n",
       "         -0.03929169,  0.00906549, -0.00167489,  0.04974529,\n",
       "         -0.01379735, -0.03682129],\n",
       "        [ 0.0399566 , -0.0290141 ,  0.04849337, -0.03175974,\n",
       "         -0.00245365,  0.01476587, -0.01322649, -0.04107571,\n",
       "          0.04305545, -0.04496234],\n",
       "        [-0.00474378,  0.02020801,  0.04886917, -0.03696902,\n",
       "         -0.0180411 , -0.04063103,  0.01199973, -0.02016647,\n",
       "         -0.01219732,  0.03885164],\n",
       "        [-0.00765971,  0.01610062, -0.04649607, -0.04488092,\n",
       "         -0.03648131,  0.03235248, -0.02577515,  0.00192694,\n",
       "          0.02176001, -0.01329571]],\n",
       "\n",
       "       [[ 0.00760077,  0.00943885, -0.04657609, -0.02080914,\n",
       "          0.01646994,  0.03705574,  0.02403385, -0.03710885,\n",
       "          0.03151498,  0.04672147],\n",
       "        [ 0.00760077,  0.00943885, -0.04657609, -0.02080914,\n",
       "          0.01646994,  0.03705574,  0.02403385, -0.03710885,\n",
       "          0.03151498,  0.04672147],\n",
       "        [ 0.00760077,  0.00943885, -0.04657609, -0.02080914,\n",
       "          0.01646994,  0.03705574,  0.02403385, -0.03710885,\n",
       "          0.03151498,  0.04672147],\n",
       "        [ 0.00760077,  0.00943885, -0.04657609, -0.02080914,\n",
       "          0.01646994,  0.03705574,  0.02403385, -0.03710885,\n",
       "          0.03151498,  0.04672147],\n",
       "        [-0.03101205,  0.0031265 , -0.03493228,  0.04483921,\n",
       "          0.00925654,  0.00125517,  0.00209373, -0.02342931,\n",
       "         -0.04555122,  0.03130573],\n",
       "        [-0.04032456,  0.0068455 , -0.04175719, -0.02428488,\n",
       "          0.02161722, -0.0324121 ,  0.0294673 ,  0.03942189,\n",
       "          0.01553391, -0.04873116],\n",
       "        [-0.0083712 , -0.00150998, -0.03524039,  0.03278507,\n",
       "          0.0107673 ,  0.04669196,  0.0287847 ,  0.03795643,\n",
       "          0.03035912,  0.00646462],\n",
       "        [-0.00765971,  0.01610062, -0.04649607, -0.04488092,\n",
       "         -0.03648131,  0.03235248, -0.02577515,  0.00192694,\n",
       "          0.02176001, -0.01329571]],\n",
       "\n",
       "       [[ 0.00760077,  0.00943885, -0.04657609, -0.02080914,\n",
       "          0.01646994,  0.03705574,  0.02403385, -0.03710885,\n",
       "          0.03151498,  0.04672147],\n",
       "        [ 0.00760077,  0.00943885, -0.04657609, -0.02080914,\n",
       "          0.01646994,  0.03705574,  0.02403385, -0.03710885,\n",
       "          0.03151498,  0.04672147],\n",
       "        [ 0.00760077,  0.00943885, -0.04657609, -0.02080914,\n",
       "          0.01646994,  0.03705574,  0.02403385, -0.03710885,\n",
       "          0.03151498,  0.04672147],\n",
       "        [ 0.00760077,  0.00943885, -0.04657609, -0.02080914,\n",
       "          0.01646994,  0.03705574,  0.02403385, -0.03710885,\n",
       "          0.03151498,  0.04672147],\n",
       "        [-0.00895872, -0.04077526,  0.03223503,  0.01886125,\n",
       "         -0.0285018 , -0.00713761,  0.03108289, -0.00030298,\n",
       "         -0.03479455, -0.00140155],\n",
       "        [-0.00081538, -0.04799446,  0.04359681, -0.00198729,\n",
       "          0.00530399, -0.01965544, -0.04239637,  0.0311675 ,\n",
       "          0.03707707, -0.04517356],\n",
       "        [ 0.04427167,  0.03163853, -0.01348912,  0.04616126,\n",
       "          0.03660382,  0.04959479,  0.0438734 , -0.01818455,\n",
       "         -0.00623627,  0.0491035 ],\n",
       "        [-0.02288976,  0.04556633, -0.00218307, -0.04327748,\n",
       "         -0.02161182, -0.01240382,  0.0048144 , -0.03341743,\n",
       "          0.01570672, -0.01576276]],\n",
       "\n",
       "       [[ 0.00760077,  0.00943885, -0.04657609, -0.02080914,\n",
       "          0.01646994,  0.03705574,  0.02403385, -0.03710885,\n",
       "          0.03151498,  0.04672147],\n",
       "        [ 0.00760077,  0.00943885, -0.04657609, -0.02080914,\n",
       "          0.01646994,  0.03705574,  0.02403385, -0.03710885,\n",
       "          0.03151498,  0.04672147],\n",
       "        [ 0.00760077,  0.00943885, -0.04657609, -0.02080914,\n",
       "          0.01646994,  0.03705574,  0.02403385, -0.03710885,\n",
       "          0.03151498,  0.04672147],\n",
       "        [ 0.00760077,  0.00943885, -0.04657609, -0.02080914,\n",
       "          0.01646994,  0.03705574,  0.02403385, -0.03710885,\n",
       "          0.03151498,  0.04672147],\n",
       "        [ 0.00760077,  0.00943885, -0.04657609, -0.02080914,\n",
       "          0.01646994,  0.03705574,  0.02403385, -0.03710885,\n",
       "          0.03151498,  0.04672147],\n",
       "        [ 0.00034025, -0.00543775,  0.04495637,  0.04427019,\n",
       "          0.02838297,  0.02531653, -0.0488922 , -0.02852478,\n",
       "          0.0387825 , -0.04448199],\n",
       "        [ 0.01070225, -0.01334814, -0.0219529 ,  0.03748496,\n",
       "          0.04548564,  0.01937971,  0.01509387,  0.03109788,\n",
       "         -0.03294383, -0.03721871],\n",
       "        [ 0.0102247 ,  0.007638  ,  0.04518694,  0.04311332,\n",
       "         -0.02238232,  0.02690741,  0.00722394,  0.01139488,\n",
       "         -0.03071564,  0.04677142]]], dtype=float32)"
      ]
     },
     "execution_count": 14,
     "metadata": {},
     "output_type": "execute_result"
    }
   ],
   "source": [
    "model.predict(embedded_docs)"
   ]
  },
  {
   "cell_type": "code",
   "execution_count": null,
   "metadata": {},
   "outputs": [],
   "source": []
  }
 ],
 "metadata": {
  "kernelspec": {
   "display_name": "Python 3",
   "language": "python",
   "name": "python3"
  },
  "language_info": {
   "codemirror_mode": {
    "name": "ipython",
    "version": 3
   },
   "file_extension": ".py",
   "mimetype": "text/x-python",
   "name": "python",
   "nbconvert_exporter": "python",
   "pygments_lexer": "ipython3",
   "version": "3.11.0"
  }
 },
 "nbformat": 4,
 "nbformat_minor": 2
}
